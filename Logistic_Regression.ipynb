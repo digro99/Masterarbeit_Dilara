{
 "cells": [
  {
   "cell_type": "code",
   "execution_count": 1,
   "metadata": {},
   "outputs": [],
   "source": [
    "#Pakete importieren\n",
    "import pandas as pd \n",
    "from sklearn.model_selection import train_test_split\n",
    "from sklearn.linear_model import LogisticRegression\n",
    "import numpy as np\n",
    "from sklearn.preprocessing import StandardScaler\n",
    "from sklearn.metrics import precision_score, recall_score, f1_score, accuracy_score\n",
    "from sklearn.metrics import confusion_matrix, ConfusionMatrixDisplay\n",
    "from sklearn.metrics import roc_curve, roc_auc_score\n",
    "import matplotlib.pyplot as plt\n",
    "from imblearn.over_sampling import SMOTE\n",
    "from sklearn.model_selection import GridSearchCV \n",
    "from sklearn.metrics import make_scorer\n",
    "import time"
   ]
  },
  {
   "cell_type": "code",
   "execution_count": 2,
   "metadata": {},
   "outputs": [],
   "source": [
    "#Dataframe erstellen in dem Ergebnisse gespeichert werden\n",
    "#Spaltennamen definieren\n",
    "columns_df = [\"Modell\", \"Accuracy\", \"Precision\", \"Recall\", \"F1-Score\", \"AUC\"]\n",
    "#Leeren Dataframe erstellen\n",
    "ergebnisse = pd.DataFrame(columns=columns_df)"
   ]
  },
  {
   "cell_type": "code",
   "execution_count": 3,
   "metadata": {},
   "outputs": [],
   "source": [
    "#Datensatz mit pandas einlesen\n",
    "Data = pd.read_csv('/home/RDC/petukhia.hub/H:/petukhia.hub/Masterarbeit_Dilara/LC_Data_Clean.csv',low_memory = False)\n",
    "                  \n",
    "# Aufteilen der Daten in Features (X) und Zielvariable (y)\n",
    "X = Data.drop('loan_status', axis=1)\n",
    "y = Data['loan_status']\n",
    "\n",
    "#Trainings und Test Datensatz erstellen\n",
    "#10% vom Datensatz werden Testdaten\n",
    "#random_state setzen um Ergebnis reproduzierbar zu machen\n",
    "X_train, X_test, y_train, y_test = train_test_split(X,y, test_size = 0.1, random_state = 99) "
   ]
  },
  {
   "cell_type": "code",
   "execution_count": 4,
   "metadata": {},
   "outputs": [
    {
     "name": "stdout",
     "output_type": "stream",
     "text": [
      "Not Default:  80.48955723923835 %\n",
      "Default:  19.510442760761652 %\n"
     ]
    }
   ],
   "source": [
    "#Verteilung prüfen\n",
    "verteilung = Data['loan_status'].value_counts() #unique values in der Spalte loan_status zählen\n",
    "nd = verteilung[0] #ergebnis in not default und default aufteilen\n",
    "de = verteilung[1]\n",
    "gesamt= len(Data) #gesamt anzahl an Beobachtungen zählen\n",
    "\n",
    "#Prozentanteil berechnen und ausgeben\n",
    "print('Not Default: ', (nd/gesamt)*100, '%')\n",
    "print('Default: ', (de/gesamt)*100, '%')"
   ]
  },
  {
   "cell_type": "code",
   "execution_count": 5,
   "metadata": {},
   "outputs": [],
   "source": [
    "#Daten Scaling da die Spalten unterschiedliche Skalen haben\n",
    "# Scaler für numerische Variablen initialisieren\n",
    "scaler = StandardScaler()\n",
    "\n",
    "###nummerische Trainingsdaten scalen###\n",
    "\n",
    "#Numerische Variablen auswählen\n",
    "#nummerische Spaltennamen werden zu einer Liste hinzugefügt\n",
    "num_cols = ['loan_amnt', 'installment', 'annual_inc', 'dti', 'delinq_2yrs', 'inq_last_6mths', \n",
    "            'open_acc', 'pub_rec', 'revol_bal', 'revol_util', 'acc_now_delinq', 'tot_coll_amt', \n",
    "            'acc_open_past_24mths', 'bc_open_to_buy', 'chargeoff_within_12_mths', 'delinq_amnt', \n",
    "            'mo_sin_old_il_acct', 'mo_sin_old_rev_tl_op', 'mo_sin_rcnt_rev_tl_op', 'mo_sin_rcnt_tl', \n",
    "            'mort_acc', 'mths_since_recent_bc', 'mths_since_recent_inq', 'num_accts_ever_120_pd', \n",
    "            'num_actv_bc_tl', 'num_actv_rev_tl', 'num_bc_sats', 'num_bc_tl', 'num_il_tl', \n",
    "            'num_op_rev_tl', 'num_rev_accts', 'num_rev_tl_bal_gt_0', 'num_sats', 'pct_tl_nvr_dlq', \n",
    "            'percent_bc_gt_75', 'pub_rec_bankruptcies', 'tax_liens', 'tot_hi_cred_lim', \n",
    "            'total_bal_ex_mort', 'total_bc_limit', 'total_il_high_credit_limit', 'fico_average']\n",
    "numerical_data_train = X_train[num_cols] #kategorische Spalten aus Datensatz entfernen\n",
    "# Kategorische Variablen auswählen\n",
    "categorical_data_train = X_train.drop(columns = num_cols) #Kategorische Spalten aus dem Trainingsdatensatz auswählen\n",
    "# Index des ursprünglichen DataFrame speichern\n",
    "index_train = numerical_data_train.index\n",
    "# Scaler auf numerische Trainingsdaten anwenden\n",
    "scaled_data_train = scaler.fit_transform(numerical_data_train)\n",
    "# Skalierte numerische Daten in DataFrame zurückkonvertieren\n",
    "X_train_scaled = pd.DataFrame(scaled_data_train, columns=num_cols, index= index_train)\n",
    "# Skalierte numerische Daten und kategorische Daten wieder zusammenführen\n",
    "X_train_scaled = pd.concat([X_train_scaled, categorical_data_train], axis=1)\n",
    "\n",
    "\n",
    "#nummerische Testdaten scalen \n",
    "#Numerische Variablen auswählen\n",
    "numerical_data_test = X_test[num_cols]\n",
    "# Kategorische Variablen auswählen\n",
    "categorical_data_test = X_test.drop(columns = num_cols)\n",
    "# Index des ursprünglichen DataFrame speichern\n",
    "index_test = numerical_data_test.index\n",
    "# Scaler auf numerische Daten anwenden\n",
    "scaled_data_test = scaler.transform(numerical_data_test) #nicht fit verwenden da auf Trainingsdaten gefittet wurde\n",
    "# Skalierte numerische Daten in DataFrame zurückkonvertieren\n",
    "X_test_scaled = pd.DataFrame(scaled_data_test, columns=num_cols, index= index_test)\n",
    "# Skalierte numerische Daten und kategorische Daten wieder zusammenführen\n",
    "X_test_scaled = pd.concat([X_test_scaled, categorical_data_test], axis=1)"
   ]
  },
  {
   "cell_type": "code",
   "execution_count": 6,
   "metadata": {},
   "outputs": [
    {
     "name": "stdout",
     "output_type": "stream",
     "text": [
      "Genauigkeit ohne Scaling auf den Trainingsdaten: 0.8051722960281411\n",
      "Genauigkeit ohne Scaling auf den Testdaten: 0.8030582449669587\n"
     ]
    },
    {
     "name": "stderr",
     "output_type": "stream",
     "text": [
      "/opt/anaconda3/lib/python3.9/site-packages/sklearn/linear_model/_logistic.py:814: ConvergenceWarning: lbfgs failed to converge (status=1):\n",
      "STOP: TOTAL NO. of ITERATIONS REACHED LIMIT.\n",
      "\n",
      "Increase the number of iterations (max_iter) or scale the data as shown in:\n",
      "    https://scikit-learn.org/stable/modules/preprocessing.html\n",
      "Please also refer to the documentation for alternative solver options:\n",
      "    https://scikit-learn.org/stable/modules/linear_model.html#logistic-regression\n",
      "  n_iter_i = _check_optimize_result(\n"
     ]
    }
   ],
   "source": [
    "#Modell implementieren und trainieren mit unskallierten Daten\n",
    "model_unscaled = LogisticRegression(random_state=0,max_iter=1000) #Modellparameter definieren\n",
    "log_reg_unscaled = model_unscaled.fit(X_train, y_train) #definiertes Modell mit Daten trainieren\n",
    "#Genauigkeit ohne Scaling\n",
    "# Genauigkeit auf den Trainingsdaten berechnen\n",
    "accuracy_us = model_unscaled.score(X_train, y_train)\n",
    "print(f\"Genauigkeit ohne Scaling auf den Trainingsdaten: {accuracy_us}\")\n",
    "# Genauigkeit auf den Testdaten berechnen\n",
    "accuracy2_us = model_unscaled.score(X_test, y_test)\n",
    "print(f\"Genauigkeit ohne Scaling auf den Testdaten: {accuracy2_us}\")"
   ]
  },
  {
   "cell_type": "code",
   "execution_count": 7,
   "metadata": {},
   "outputs": [
    {
     "name": "stdout",
     "output_type": "stream",
     "text": [
      "Skallierter Datensatz\n",
      "Genauigkeit auf den Trainingsdaten: 0.8064871418325877\n",
      "Genauigkeit auf den Testdaten: 0.805517135392654\n"
     ]
    }
   ],
   "source": [
    "#Modell mit skalliertem Datensatz implementieren und trainieren\n",
    "model = LogisticRegression(random_state=0,max_iter=1000) #Modellparameter festlegen\n",
    "log_reg = model.fit(X_train_scaled, y_train) #Datensatz angeben mit dem Modell traineirt wird\n",
    "\n",
    "#Genauigkeitsberechnung für Modell mit skalliertem Datensatz\n",
    "print('Skallierter Datensatz')\n",
    "# Genauigkeit auf den Trainingsdaten berechnen\n",
    "accuracy = model.score(X_train_scaled, y_train)\n",
    "print(f\"Genauigkeit auf den Trainingsdaten: {accuracy}\")\n",
    "# Genauigkeit auf den Testdaten berechnen\n",
    "accuracy2 = model.score(X_test_scaled, y_test)\n",
    "print(f\"Genauigkeit auf den Testdaten: {accuracy2}\")"
   ]
  },
  {
   "cell_type": "code",
   "execution_count": 8,
   "metadata": {},
   "outputs": [
    {
     "name": "stdout",
     "output_type": "stream",
     "text": [
      "Testdaten mit skalliertem Datensatz\n",
      "Precision:  0.567741935483871\n",
      "Recall:  0.05151219512195122\n",
      "F1:  0.09445438282647584\n",
      "AUC:  0.5209481752531729\n"
     ]
    }
   ],
   "source": [
    "# Vorhersagen für die Testdaten berechnen\n",
    "y_test_pred = model.predict(X_test_scaled)\n",
    "\n",
    "#Testmetriken Precision, Recall, AUC und F1-Score berechnen\n",
    "\n",
    "#Testdaten\n",
    "modell = \"Scaled + Unbalanced\"\n",
    "# Berechnung der Precision\n",
    "precision_test = precision_score(y_test, y_test_pred)\n",
    "print('Testdaten mit skalliertem Datensatz')\n",
    "print('Precision: ', precision_test)\n",
    "# Berechnung des Recall\n",
    "recall_test = recall_score(y_test, y_test_pred)\n",
    "print('Recall: ', recall_test)\n",
    "# Berechnung des F1-Scores\n",
    "f1_test = f1_score(y_test, y_test_pred)\n",
    "print('F1: ', f1_test)\n",
    "# Berechnung des ROC-AUC Score\n",
    "roc_auc_test = roc_auc_score(y_test, y_test_pred)\n",
    "print('AUC: ',roc_auc_test)\n",
    "\n",
    "#Ergebnisse zum Dataframe hinzufügen\n",
    "ergebnisse.loc[0] = [modell, accuracy2,precision_test,recall_test,f1_test,roc_auc_test]"
   ]
  },
  {
   "cell_type": "code",
   "execution_count": 9,
   "metadata": {},
   "outputs": [
    {
     "name": "stderr",
     "output_type": "stream",
     "text": [
      "/opt/anaconda3/lib/python3.9/site-packages/scipy/optimize/linesearch.py:327: LineSearchWarning: The line search algorithm did not converge\n",
      "  warn('The line search algorithm did not converge', LineSearchWarning)\n",
      "/opt/anaconda3/lib/python3.9/site-packages/sklearn/utils/optimize.py:203: UserWarning: Line Search failed\n",
      "  warnings.warn(\"Line Search failed\")\n"
     ]
    },
    {
     "name": "stdout",
     "output_type": "stream",
     "text": [
      "Beste Hyperparameter-Kombination: {'C': 0.01, 'penalty': 'l2', 'solver': 'saga'}\n"
     ]
    }
   ],
   "source": [
    "#Hyperparameter anpassen\n",
    "\n",
    "# Hyperparameter-Raster definieren\n",
    "hyperparameters = {\n",
    "   'C': [0.001, 0.01, 0.1, 1, 10, 100],\n",
    "    'penalty': ['l2'],  # Nur L2-Regularisierung\n",
    "    'solver': ['liblinear', 'lbfgs', 'newton-cg', 'saga']\n",
    "}\n",
    "\n",
    "# Initialisieren Sie den Grid Search initialisieren\n",
    "grid_search = GridSearchCV(LogisticRegression(random_state=0, max_iter=10000), hyperparameters, cv=5, scoring='accuracy')\n",
    "\n",
    "#Grid-Search durchführen\n",
    "grid_search.fit(X_train_scaled, y_train)\n",
    "\n",
    "# Beste Hyperparameter-Kombination ausgeben\n",
    "print(\"Beste Hyperparameter-Kombination:\", grid_search.best_params_)\n",
    "\n",
    "# Modell mit den besten Hyperparametern trainieren und evaluieren\n",
    "model2 = LogisticRegression(**grid_search.best_params_,random_state=0, max_iter=10000)\n",
    "#Modell trainieren\n",
    "log_reg2 = model2.fit(X_train_scaled, y_train)"
   ]
  },
  {
   "cell_type": "code",
   "execution_count": 10,
   "metadata": {},
   "outputs": [
    {
     "name": "stdout",
     "output_type": "stream",
     "text": [
      "Modell mit angepassten Hyperparametern\n",
      "Accuracy Modell 2:  0.8054787152297526\n",
      "Precision Modell 2:  0.5727699530516432\n",
      "Recall Modell 2:  0.047609756097560976\n",
      "F1 Modell 2:  0.0879120879120879\n",
      "AUC Modell 2:  0.5194514359591282\n"
     ]
    }
   ],
   "source": [
    "# Vorhersagen für die Testdaten berechnen\n",
    "y_test_pred2 = model2.predict(X_test_scaled)\n",
    "\n",
    "#Weitere Testmetriken für Testdaten aus Modell mit optimierten Hyperparametern\n",
    "print('Modell mit angepassten Hyperparametern')\n",
    "modell2 = \"Scale + Hyperparamter\"\n",
    "#Berechnung Accuracy\n",
    "accuracy_test2 = accuracy_score(y_test, y_test_pred2)\n",
    "print('Accuracy Modell 2: ', accuracy_test2)\n",
    "# Berechnung der Precision\n",
    "precision_test2 = precision_score(y_test, y_test_pred2)\n",
    "print('Precision Modell 2: ', precision_test2)\n",
    "# Berechnung des Recall\n",
    "recall_test2 = recall_score(y_test, y_test_pred2)\n",
    "print('Recall Modell 2: ', recall_test2)\n",
    "# Berechnung des F1-Scores\n",
    "f1_test2 = f1_score(y_test, y_test_pred2)\n",
    "print('F1 Modell 2: ', f1_test2)\n",
    "# Berechnung des ROC-AUC Score\n",
    "roc_auc_test2 = roc_auc_score(y_test, y_test_pred2)\n",
    "print('AUC Modell 2: ',roc_auc_test2)\n",
    "\n",
    "#Ergebnisse zum Dataframe hinzufügen\n",
    "ergebnisse.loc[1] = [modell2, accuracy_test2,precision_test2,recall_test2,f1_test2,roc_auc_test2]"
   ]
  },
  {
   "cell_type": "code",
   "execution_count": 11,
   "metadata": {},
   "outputs": [
    {
     "name": "stdout",
     "output_type": "stream",
     "text": [
      "Klassengewichte vor SMOTE: {0: 188592, 1: 45656}\n",
      "Klassengewichte nach SMOTE: {0: 188592, 1: 188592}\n"
     ]
    }
   ],
   "source": [
    "# SMOTE anwenden\n",
    "smote = SMOTE(random_state=42)#SMOTE algorithmus defineiren\n",
    "X_train_resampled0, y_train_resampled = smote.fit_resample(X_train, y_train) #SMOTE auf Daten fitten\n",
    "\n",
    "#Klassengewichtung vor SMOTE\n",
    "unique0, counts0 = np.unique(y_train, return_counts=True) #einzigatige Werte werden gezählt, Anzahl und Werte werden in extra Array gespeichert\n",
    "class_weights0 = dict(zip(unique0, counts0)) #Dictionary wird erstellt, Anzahl wird Wert zugeteilt\n",
    "print(\"Klassengewichte vor SMOTE:\", class_weights0)\n",
    "\n",
    "# Überprüfen der Klassengewichte nach der Anwendung von SMOTE\n",
    "unique, counts = np.unique(y_train_resampled, return_counts=True)\n",
    "class_weights = dict(zip(unique, counts))\n",
    "print(\"Klassengewichte nach SMOTE:\", class_weights)"
   ]
  },
  {
   "cell_type": "code",
   "execution_count": 12,
   "metadata": {},
   "outputs": [],
   "source": [
    "#Ausgeglichener Datensatz wird erneut skalliert wie zuvor\n",
    "\n",
    "# Scaler für numerische Variablen initialisieren\n",
    "scaler = StandardScaler()\n",
    "\n",
    "###nummerische Trainingsdaten scalen###\n",
    "\n",
    "numerical_data_train0 = X_train_resampled0[num_cols] #kategorische Spalten aus Datensatz entfernen\n",
    "# Kategorische Variablen auswählen\n",
    "categorical_data_train0 = X_train_resampled0.drop(columns = num_cols) #Kategorische Spalten aus dem Trainingsdatensatz auswählen\n",
    "# Index des ursprünglichen DataFrame speichern\n",
    "index_train0 = numerical_data_train0.index\n",
    "# Scaler auf numerische Trainingsdaten anwenden\n",
    "scaled_data_train0 = scaler.fit_transform(numerical_data_train0)\n",
    "# Skalierte numerische Daten in DataFrame zurückkonvertieren\n",
    "X_train_resampled = pd.DataFrame(scaled_data_train0, columns=num_cols, index= index_train0)\n",
    "# Skalierte numerische Daten und kategorische Daten wieder zusammenführen\n",
    "X_train_resampled = pd.concat([X_train_resampled, categorical_data_train0], axis=1)\n",
    "\n",
    "\n",
    "#nummerische Testdaten scalen \n",
    "#Numerische Variablen auswählen\n",
    "numerical_data_test0 = X_test[num_cols]\n",
    "# Kategorische Variablen auswählen\n",
    "categorical_data_test0 = X_test.drop(columns = num_cols)\n",
    "# Index des ursprünglichen DataFrame speichern\n",
    "index_test0 = numerical_data_test0.index\n",
    "# Scaler auf numerische Daten anwenden\n",
    "scaled_data_test0 = scaler.transform(numerical_data_test0) #nicht fit verwenden da auf Trainingsdaten gefittet wurde\n",
    "# Skalierte numerische Daten in DataFrame zurückkonvertieren\n",
    "X_test_resampled = pd.DataFrame(scaled_data_test0, columns=num_cols, index= index_test0)\n",
    "# Skalierte numerische Daten und kategorische Daten wieder zusammenführen\n",
    "X_test_resampled = pd.concat([X_test_resampled, categorical_data_test0], axis=1)"
   ]
  },
  {
   "cell_type": "code",
   "execution_count": 13,
   "metadata": {},
   "outputs": [
    {
     "name": "stdout",
     "output_type": "stream",
     "text": [
      "Genauigkeit auf den Testdaten: 0.6357000153680652\n",
      "Precision Modell 3:  0.2698848632090419\n",
      "Recall Modell 3:  0.49853658536585366\n",
      "F1 Modell 3:  0.3501918859649123\n",
      "AUC:  0.5839331733220694\n"
     ]
    }
   ],
   "source": [
    "#Model ohne angepasste Hyperparameter implementieren\n",
    "model3 = LogisticRegression(random_state=0,max_iter=5000) #Modellparameter festlegen\n",
    "#Max iter auf 5000 setzen da sonst nicht konvergiert\n",
    "log_reg3 = model3.fit(X_train_resampled, y_train_resampled) #Modell mit ausgeglichenen und skallierten Daten trainieren\n",
    "\n",
    "# Genauigkeit auf den Testdaten berechnen\n",
    "accuracy_resampled = model3.score(X_test_resampled, y_test)\n",
    "print(f\"Genauigkeit auf den Testdaten: {accuracy_resampled}\")\n",
    "#Weitere Testmetriken\n",
    "modell3 = \"Scaled + SMOTE\"\n",
    "# Vorhersagen für die Testdaten berechnen\n",
    "y_test_pred3 = model3.predict(X_test_resampled)\n",
    "# Berechnung der Precision\n",
    "precision_test3 = precision_score(y_test, y_test_pred3)\n",
    "print('Precision Modell 3: ', precision_test3)\n",
    "# Berechnung des Recall\n",
    "recall_test3 = recall_score(y_test, y_test_pred3)\n",
    "print('Recall Modell 3: ', recall_test3)\n",
    "# Berechnung des F1-Scores\n",
    "f1_test3 = f1_score(y_test, y_test_pred3)\n",
    "print('F1 Modell 3: ', f1_test3)\n",
    "#Berechnung AUC\n",
    "#y_scores3 = model3.predict_proba(X_test_resampled)[:, 1]\n",
    "auc3 = roc_auc_score(y_test, y_test_pred3)\n",
    "print('AUC: ', auc3)\n",
    "\n",
    "#Ergebnisse zum Dataframe hinzufügen\n",
    "ergebnisse.loc[2] = [modell3, accuracy_resampled,precision_test3,recall_test3,f1_test3,auc3]"
   ]
  },
  {
   "cell_type": "code",
   "execution_count": 14,
   "metadata": {},
   "outputs": [
    {
     "name": "stderr",
     "output_type": "stream",
     "text": [
      "/opt/anaconda3/lib/python3.9/site-packages/scipy/optimize/linesearch.py:327: LineSearchWarning: The line search algorithm did not converge\n",
      "  warn('The line search algorithm did not converge', LineSearchWarning)\n",
      "/opt/anaconda3/lib/python3.9/site-packages/sklearn/utils/optimize.py:203: UserWarning: Line Search failed\n",
      "  warnings.warn(\"Line Search failed\")\n",
      "/opt/anaconda3/lib/python3.9/site-packages/scipy/optimize/linesearch.py:327: LineSearchWarning: The line search algorithm did not converge\n",
      "  warn('The line search algorithm did not converge', LineSearchWarning)\n",
      "/opt/anaconda3/lib/python3.9/site-packages/sklearn/utils/optimize.py:203: UserWarning: Line Search failed\n",
      "  warnings.warn(\"Line Search failed\")\n"
     ]
    },
    {
     "name": "stdout",
     "output_type": "stream",
     "text": [
      "Beste Hyperparameter-Kombination: {'C': 0.1, 'penalty': 'l2', 'solver': 'saga'}\n"
     ]
    }
   ],
   "source": [
    "#Hyperparameter anpassen\n",
    "\n",
    "# Hyperparameter-Raster definieren\n",
    "hyperparameters = {\n",
    "   'C': [0.001, 0.01, 0.1, 1, 10, 100],\n",
    "    'penalty': ['l2'],  # Nur L2-Regularisierung\n",
    "    'solver': ['liblinear', 'lbfgs', 'newton-cg', 'saga']\n",
    "}\n",
    "\n",
    "# Initialisieren Sie den Grid Search initialisieren\n",
    "grid_search2 = GridSearchCV(LogisticRegression(random_state=0, max_iter=10000), hyperparameters, cv=5, scoring='accuracy')\n",
    "\n",
    "#Grid-Search durchführen\n",
    "grid_search2.fit(X_train_resampled, y_train_resampled)\n",
    "\n",
    "# Beste Hyperparameter-Kombination ausgeben\n",
    "print(\"Beste Hyperparameter-Kombination:\", grid_search2.best_params_)\n",
    "\n",
    "# Modell mit den besten Hyperparametern trainieren und evaluieren\n",
    "model4 = LogisticRegression(**grid_search2.best_params_,random_state=0, max_iter=10000)\n",
    "#Modell trainieren\n",
    "log_reg4 = model4.fit(X_train_resampled, y_train_resampled)"
   ]
  },
  {
   "cell_type": "code",
   "execution_count": 15,
   "metadata": {},
   "outputs": [
    {
     "name": "stdout",
     "output_type": "stream",
     "text": [
      "Accuracy Modell 4:  0.6355079145535577\n",
      "Precision Modell 4:  0.26974239864864863\n",
      "Recall Modell 4:  0.49853658536585366\n",
      "F1 Modell 4:  0.3500719325888881\n",
      "AUC Modell 4:  0.5838135732646617\n"
     ]
    }
   ],
   "source": [
    "# Vorhersagen für die Testdaten berechnen\n",
    "y_test_pred4 = model4.predict(X_test_resampled)\n",
    "\n",
    "#Testmetriken auf Testdaten berechnen für Ausgeglichenen und Skallierten Datensatz mit Hyperparameter-Anpassung\n",
    "modell4 = \"Scaled + SMOTE +\\nHyperparameter\"\n",
    "#Berechnung Accuracy\n",
    "accuracy_test4 = accuracy_score(y_test, y_test_pred4)\n",
    "print('Accuracy Modell 4: ', accuracy_test4)\n",
    "# Berechnung der Precision\n",
    "precision_test4 = precision_score(y_test, y_test_pred4)\n",
    "print('Precision Modell 4: ', precision_test4)\n",
    "# Berechnung des Recall\n",
    "recall_test4 = recall_score(y_test, y_test_pred4)\n",
    "print('Recall Modell 4: ', recall_test4)\n",
    "# Berechnung des F1-Scores\n",
    "f1_test4 = f1_score(y_test, y_test_pred4)\n",
    "print('F1 Modell 4: ', f1_test4)\n",
    "#Berechnung AUC\n",
    "#y_scores4 = model4.predict_proba(X_test_resampled)[:, 1]\n",
    "auc4 = roc_auc_score(y_test, y_test_pred4)\n",
    "print('AUC Modell 4: ', auc4)\n",
    "\n",
    "#Ergebnisse zum Dataframe hinzufügen\n",
    "ergebnisse.loc[3] = [modell4, accuracy_test4, precision_test4, recall_test4, f1_test4, auc4]"
   ]
  },
  {
   "cell_type": "code",
   "execution_count": 16,
   "metadata": {},
   "outputs": [
    {
     "name": "stdout",
     "output_type": "stream",
     "text": [
      "Bestes C (basierend auf BIC): 0.0001\n",
      "Genauigkeit auf den Testdaten: 0.6318964192408176\n",
      "Ausgewählte Features: Index(['loan_amnt', 'dti', 'acc_open_past_24mths', 'mo_sin_old_rev_tl_op',\n",
      "       'mort_acc', 'mths_since_recent_inq', 'tot_hi_cred_lim',\n",
      "       'total_bc_limit', 'fico_average', 'emp_length', 'home_ownership'],\n",
      "      dtype='object')\n"
     ]
    }
   ],
   "source": [
    "#Modell erstellen\n",
    "log_reg = LogisticRegression( penalty = 'l1', solver = 'liblinear', max_iter = 5000)\n",
    "#\n",
    "#Werte von C definieren\n",
    "param_grid = {'C': [0.0001, 0.001, 0.01, 0.1, 1, 10]}\n",
    "\n",
    "#Funktion zur Berechnung von BIC definieren\n",
    "#def calculate_bic (y_true, y_pred, n, p):\n",
    "    #residual = y_true - y_pred\n",
    "  #  mse = np.mean(residual**2)\n",
    "  #  bic = n * np.log(mse) + p * np.log(n)\n",
    "   # return -bic #Minimierung des negativen BIC\n",
    "def calculate_bic(y_true, y_pred):\n",
    "    n = len(y_true)\n",
    "    p = len(np.unique(y_true))\n",
    "    residual = y_true - y_pred\n",
    "    mse = np.mean(residual**2)\n",
    "    bic = n * np.log(mse) + p * np.log(n)\n",
    "    return -bic  # Minimierung des negativen BIC\n",
    "\n",
    "#Grid Search mit BIC als Metric verwenden\n",
    "bic_scorer = make_scorer(calculate_bic, greater_is_better=False)\n",
    " #greater_is_better=False)\n",
    "grid_search = GridSearchCV(log_reg, param_grid, cv = 5, scoring = bic_scorer)\n",
    "grid_search.fit (X_train_resampled, y_train_resampled)\n",
    "\n",
    "#Besten Wert für C ausgeben\n",
    "best_C = grid_search.best_params_['C']\n",
    "print(\"Bestes C (basierend auf BIC):\", best_C)\n",
    "\n",
    "#Modellvorhersagen machen\n",
    "model5 = grid_search.best_estimator_\n",
    "y_tes_pred5 = model5.predict(X_test_resampled)\n",
    "\n",
    "# Genauigkeit auf den Testdaten berechnen\n",
    "accuracy_test5 = model5.score(X_test_resampled, y_test)\n",
    "print(f\"Genauigkeit auf den Testdaten: {accuracy_test5}\")\n",
    "\n",
    "# Die ausgewählten Feature-Indizes\n",
    "selected_feature_indices = np.where(model5.coef_[0] != 0)[0]\n",
    "\n",
    "# Die Namen der ausgewählten Features\n",
    "selected_feature_names = X_train_resampled.columns[selected_feature_indices]\n",
    "\n",
    "# Anzeigen der ausgewählten Feature-Namen\n",
    "print(\"Ausgewählte Features:\", selected_feature_names)"
   ]
  },
  {
   "cell_type": "code",
   "execution_count": 17,
   "metadata": {},
   "outputs": [
    {
     "name": "stdout",
     "output_type": "stream",
     "text": [
      "Genauigkeit auf den Testdaten: 0.6318579990779161\n",
      "Precision Modell 5:  0.28247925817471936\n",
      "Recall Modell 5:  0.5646829268292682\n",
      "F1 Modell 5:  0.3765777488614183\n",
      "Ausgewählte Features: Index(['loan_amnt', 'emp_length', 'pub_rec', 'tot_coll_amt',\n",
      "       'chargeoff_within_12_mths', 'mo_sin_old_il_acct', 'num_rev_tl_bal_gt_0',\n",
      "       'pct_tl_nvr_dlq', 'pub_rec_bankruptcies', 'tot_hi_cred_lim',\n",
      "       'total_bal_ex_mort'],\n",
      "      dtype='object')\n",
      "Gesamtrechenzeit: 1.5591387748718262 Sekunden\n"
     ]
    }
   ],
   "source": [
    "# Startzeit messen\n",
    "start_time = time.time()\n",
    "\n",
    "#Modell trainieren\n",
    "model5 = LogisticRegression(penalty='l1', C=grid_search.best_params_['C'] , solver='liblinear', max_iter=5000)\n",
    "\n",
    "model5.fit(X_train_resampled, y_train_resampled)\n",
    "\n",
    "# Endzeit messen\n",
    "end_time = time.time()\n",
    "\n",
    "#Name festlegen\n",
    "modell5 = \"Scaled + SMOTE +\\nHyperparamter + Lasso\"\n",
    "\n",
    "# Vorhersagen für die Testdaten berechnen\n",
    "y_test_pred5 = model5.predict(X_test_resampled)\n",
    "\n",
    "# Genauigkeit auf den Testdaten berechnen\n",
    "accuracy_test5 = model5.score(X_test_resampled, y_test)\n",
    "print(f\"Genauigkeit auf den Testdaten: {accuracy_test5}\")\n",
    "# Berechnung der Precision\n",
    "precision_test5 = precision_score(y_test, y_test_pred5)\n",
    "print('Precision Modell 5: ', precision_test5)\n",
    "# Berechnung des Recall\n",
    "recall_test5 = recall_score(y_test, y_test_pred5)\n",
    "print('Recall Modell 5: ', recall_test5)\n",
    "# Berechnung des F1-Scores\n",
    "f1_test5 = f1_score(y_test, y_test_pred5)\n",
    "print('F1 Modell 5: ', f1_test5)\n",
    "\n",
    "# Die ausgewählten Feature-Indizes\n",
    "selected_feature_indices = np.where(model5.coef_[0] != 0)[0]\n",
    "\n",
    "# Die Namen der ausgewählten Features\n",
    "selected_feature_names = X_train.columns[selected_feature_indices]\n",
    "\n",
    "# Anzeigen der ausgewählten Feature-Namen\n",
    "print(\"Ausgewählte Features:\", selected_feature_names)\n",
    "\n",
    "# Gesamtrechenzeit berechnen und ausgeben\n",
    "elapsed_time = end_time - start_time\n",
    "print(f\"Gesamtrechenzeit: {elapsed_time} Sekunden\")"
   ]
  },
  {
   "cell_type": "code",
   "execution_count": 18,
   "metadata": {},
   "outputs": [
    {
     "data": {
      "text/plain": [
       "Text(0.5, 1.0, 'Confusion Matrix für eine Logistic Regression')"
      ]
     },
     "execution_count": 18,
     "metadata": {},
     "output_type": "execute_result"
    },
    {
     "data": {
      "image/png": "[encoded data removed]",
      "text/plain": [
       "<Figure size 432x288 with 2 Axes>"
      ]
     },
     "metadata": {
      "needs_background": "light"
     },
     "output_type": "display_data"
    }
   ],
   "source": [
    "#Confusion Matrix berechnen\n",
    "cm4 = confusion_matrix(y_test, y_test_pred5, labels=model5.classes_) #confusionmatrix für Testdaten berecnen\n",
    "disp = ConfusionMatrixDisplay(confusion_matrix=cm4, #Confusion Matrix plotten\n",
    "                               display_labels=[\"Fully Paid\", \"Charged Off\"]) #Labels beschriften\n",
    "\n",
    "disp.plot()\n",
    "plt.title('Confusion Matrix für eine Logistic Regression') #Überschrift festlegen\n",
    "#plt.savefig('/home/RDC/petukhia.hub/H:/petukhia.hub/Masterarbeit_Dilara/CM_LR.jpg')"
   ]
  },
  {
   "cell_type": "code",
   "execution_count": 19,
   "metadata": {},
   "outputs": [
    {
     "name": "stdout",
     "output_type": "stream",
     "text": [
      "AUC:  0.6478101614542433\n"
     ]
    },
    {
     "data": {
      "image/png": "[encoded data removed]",
      "text/plain": [
       "<Figure size 432x288 with 1 Axes>"
      ]
     },
     "metadata": {
      "needs_background": "light"
     },
     "output_type": "display_data"
    }
   ],
   "source": [
    "#ROC-Kurve erstellen \n",
    "#Modellhervorsagen berechnen\n",
    "y_scores = model5.predict_proba(X_test_resampled)[:, 1]\n",
    "\n",
    "#false positive und true positive rate berechnen\n",
    "fpr, tpr, thresholds = roc_curve(y_test, y_scores)\n",
    "\n",
    "auc5 = roc_auc_score(y_test, y_scores)\n",
    "\n",
    "#Ergebnisse zum Dataframe hinzufügen\n",
    "ergebnisse.loc[4] = [modell5, accuracy_test5, precision_test5, recall_test5, f1_test5, auc5]\n",
    "\n",
    "print('AUC: ', auc5)\n",
    "\n",
    "# ROC-Kurve plotten\n",
    "plt.plot(fpr, tpr, label='ROC curve')\n",
    "plt.plot([0, 1], [0, 1], 'k--', label='Random guess')\n",
    "plt.xlabel('False Positive Rate')\n",
    "plt.ylabel('True Positive Rate')\n",
    "plt.title('ROC-Kurve für eine logistische Regression')\n",
    "plt.legend()\n",
    "#plt.savefig('/home/RDC/petukhia.hub/H:/petukhia.hub/Masterarbeit_Dilara/ROC_LR.jpg')\n",
    "plt.show()"
   ]
  },
  {
   "cell_type": "code",
   "execution_count": 20,
   "metadata": {},
   "outputs": [
    {
     "data": {
      "image/png": "[encoded data removed]",
      "text/plain": [
       "<Figure size 864x288 with 1 Axes>"
      ]
     },
     "metadata": {
      "needs_background": "light"
     },
     "output_type": "display_data"
    }
   ],
   "source": [
    "# Numerische Spalten auf 5 Nachkommastellen begrenzen\n",
    "numerical_cols = ergebnisse.select_dtypes(include=['float64']).columns\n",
    "ergebnisse[numerical_cols] = ergebnisse[numerical_cols].round(5)\n",
    "\n",
    "# Tabelle erstellen\n",
    "fig, ax = plt.subplots(figsize=(12, 4))  # Figur und Achsen erstellen\n",
    "ax.axis('off')  # Achsen ausschalten\n",
    "\n",
    "# Spaltenbreiten festlegen\n",
    "col_widths = [0.3] + [0.14 for _ in range(ergebnisse.shape[1] - 1)]\n",
    "\n",
    "# Tabellendiagramm erstellen\n",
    "table = ax.table(cellText=ergebnisse.values, colLabels=ergebnisse.columns, cellLoc='center', loc='center', bbox=[0, 0, 1, 1], colWidths=col_widths)\n",
    "\n",
    "# Überschriften fett drucken\n",
    "table.auto_set_font_size(False)\n",
    "table.set_fontsize(10)  # Schriftgröße anpassen, falls gewünscht\n",
    "for (i, j), cell in table.get_celld().items():\n",
    "    if i == 0:\n",
    "        cell.set_text_props(fontweight='bold')  # Überschrift fett drucken\n",
    "\n",
    "#plt.savefig('/home/RDC/petukhia.hub/H:/petukhia.hub/Masterarbeit_Dilara/Ergebnisse_LR.jpg')\n",
    "plt.show()"
   ]
  },
  {
   "cell_type": "code",
   "execution_count": 21,
   "metadata": {},
   "outputs": [
    {
     "name": "stdout",
     "output_type": "stream",
     "text": [
      "Feature: loan_amnt, Koeffizient: 0.17274896805754422\n",
      "Feature: term, Koeffizient: 0.0\n",
      "Feature: installment, Koeffizient: 0.0\n",
      "Feature: emp_length, Koeffizient: 0.06827610204901452\n",
      "Feature: home_ownership, Koeffizient: 0.0\n",
      "Feature: annual_inc, Koeffizient: 0.0\n",
      "Feature: verification_status, Koeffizient: 0.0\n",
      "Feature: addr_state, Koeffizient: 0.0\n",
      "Feature: dti, Koeffizient: 0.0\n",
      "Feature: delinq_2yrs, Koeffizient: 0.0\n",
      "Feature: inq_last_6mths, Koeffizient: 0.0\n",
      "Feature: open_acc, Koeffizient: 0.0\n",
      "Feature: pub_rec, Koeffizient: 0.10239267328169234\n",
      "Feature: revol_bal, Koeffizient: 0.0\n",
      "Feature: revol_util, Koeffizient: 0.0\n",
      "Feature: application_type, Koeffizient: 0.0\n",
      "Feature: acc_now_delinq, Koeffizient: 0.0\n",
      "Feature: tot_coll_amt, Koeffizient: -0.0008475762732484357\n",
      "Feature: acc_open_past_24mths, Koeffizient: 0.0\n",
      "Feature: bc_open_to_buy, Koeffizient: 0.0\n",
      "Feature: chargeoff_within_12_mths, Koeffizient: -0.07677447705353894\n",
      "Feature: delinq_amnt, Koeffizient: 0.0\n",
      "Feature: mo_sin_old_il_acct, Koeffizient: -0.024569619315785086\n",
      "Feature: mo_sin_old_rev_tl_op, Koeffizient: 0.0\n",
      "Feature: mo_sin_rcnt_rev_tl_op, Koeffizient: 0.0\n",
      "Feature: mo_sin_rcnt_tl, Koeffizient: 0.0\n",
      "Feature: mort_acc, Koeffizient: 0.0\n",
      "Feature: mths_since_recent_bc, Koeffizient: 0.0\n",
      "Feature: mths_since_recent_inq, Koeffizient: 0.0\n",
      "Feature: num_accts_ever_120_pd, Koeffizient: 0.0\n",
      "Feature: num_actv_bc_tl, Koeffizient: 0.0\n",
      "Feature: num_actv_rev_tl, Koeffizient: 0.0\n",
      "Feature: num_bc_sats, Koeffizient: 0.0\n",
      "Feature: num_bc_tl, Koeffizient: 0.0\n",
      "Feature: num_il_tl, Koeffizient: 0.0\n",
      "Feature: num_op_rev_tl, Koeffizient: 0.0\n",
      "Feature: num_rev_accts, Koeffizient: 0.0\n",
      "Feature: num_rev_tl_bal_gt_0, Koeffizient: -0.0309741898470901\n",
      "Feature: num_sats, Koeffizient: 0.0\n",
      "Feature: pct_tl_nvr_dlq, Koeffizient: -0.016050419423608218\n",
      "Feature: percent_bc_gt_75, Koeffizient: 0.0\n",
      "Feature: pub_rec_bankruptcies, Koeffizient: -0.21577006887936312\n",
      "Feature: tax_liens, Koeffizient: 0.0\n",
      "Feature: tot_hi_cred_lim, Koeffizient: 0.0024346852413638905\n",
      "Feature: total_bal_ex_mort, Koeffizient: -0.1106347729449118\n",
      "Feature: total_bc_limit, Koeffizient: 0.0\n",
      "Feature: total_il_high_credit_limit, Koeffizient: 0.0\n",
      "Feature: fico_average, Koeffizient: 0.0\n"
     ]
    }
   ],
   "source": [
    "#Gewichtung der Features ausgeben lassen\n",
    "\n",
    "# Die Koeffizienten (Gewichtungen) des Modells\n",
    "coefficients = model5.coef_\n",
    "\n",
    "# Die Namen der Features aus dem DataFrame\n",
    "feature_names = X_train.columns\n",
    "\n",
    "# Drucken Sie die Namen der Features und die zugehörigen Koeffizienten aus\n",
    "for feature, coefficient in zip(feature_names, coefficients[0]):\n",
    "    print(f\"Feature: {feature}, Koeffizient: {coefficient}\")"
   ]
  },
  {
   "cell_type": "code",
   "execution_count": null,
   "metadata": {},
   "outputs": [],
   "source": []
  },
  {
   "cell_type": "code",
   "execution_count": null,
   "metadata": {},
   "outputs": [],
   "source": []
  }
 ],
 "metadata": {
  "kernelspec": {
   "display_name": "Python 3 (ipykernel)",
   "language": "python",
   "name": "python3"
  },
  "language_info": {
   "codemirror_mode": {
    "name": "ipython",
    "version": 3
   },
   "file_extension": ".py",
   "mimetype": "text/x-python",
   "name": "python",
   "nbconvert_exporter": "python",
   "pygments_lexer": "ipython3",
   "version": "3.9.12"
  }
 },
 "nbformat": 4,
 "nbformat_minor": 4
}
