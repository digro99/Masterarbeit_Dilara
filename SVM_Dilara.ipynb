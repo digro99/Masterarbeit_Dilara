{
 "cells": [
  {
   "cell_type": "code",
   "execution_count": 1,
   "id": "b42803e4",
   "metadata": {},
   "outputs": [],
   "source": [
    "import pandas as pd\n",
    "import numpy as np\n",
    "import matplotlib.pyplot as plt\n",
    "#import matplotlib.colors as colors\n",
    "from sklearn.utils import resample\n",
    "from sklearn.model_selection import train_test_split\n",
    "from sklearn.preprocessing import StandardScaler\n",
    "from sklearn.svm import SVC\n",
    "#from sklearn.model_selection import GridSearchCV \n",
    "from sklearn.model_selection import RandomizedSearchCV\n",
    "from scipy.stats import reciprocal, uniform\n",
    "from sklearn.metrics import confusion_matrix, ConfusionMatrixDisplay\n",
    "#from sklearn.decomposition import PCA\n",
    "from sklearn.metrics import precision_score, recall_score, f1_score, accuracy_score\n",
    "from sklearn.metrics import roc_curve, roc_auc_score\n",
    "#from sklearn.datasets import make_classification\n",
    "from imblearn.under_sampling import RandomUnderSampler\n",
    "import shap\n",
    "import time"
   ]
  },
  {
   "cell_type": "code",
   "execution_count": 2,
   "id": "4f2c1e4c",
   "metadata": {},
   "outputs": [],
   "source": [
    "#Dataframe erstellen in dem Ergebnisse gespeichert werden\n",
    "#Spaltennamen definieren\n",
    "columns_df = [\"Modell\", \"Accuracy\", \"Precision\", \"Recall\", \"F1-Score\", \"AUC\"]\n",
    "#Leeren Dataframe erstellen\n",
    "ergebnisse = pd.DataFrame(columns=columns_df)"
   ]
  },
  {
   "cell_type": "code",
   "execution_count": 15,
   "id": "5dfc6087",
   "metadata": {},
   "outputs": [],
   "source": [
    "#Daten einlesen\n",
    "#Datensatz verwenden der mit One Hot Encoding umkodiert wurde\n",
    "Full_Data = pd.read_csv('/home/RDC/petukhia.hub/H:/petukhia.hub/Masterarbeit_Dilara/LC_Data_Clean.csv',low_memory = False)\n",
    "\n",
    "#Datenmenge reduzieren und jede zweite Zeile entfernen\n",
    "Data = Full_Data.iloc[::2].reset_index(drop=True)\n",
    "\n"
   ]
  },
  {
   "cell_type": "code",
   "execution_count": 16,
   "id": "b888b1b3",
   "metadata": {},
   "outputs": [],
   "source": [
    "# Aufteilen der Daten in Features (X) und Zielvariable (y)\n",
    "X = Data.drop('loan_status', axis=1) #Spalte loan Status entfernen\n",
    "y = Data['loan_status'] #nur Spalte loan staus beibehalten\n",
    "\n",
    "#Trainings und Test Datensatz erstellen\n",
    "X_train, X_test, y_train, y_test = train_test_split(X,y, test_size = 0.1, random_state = 99)\n",
    "#10% der Daten als Testdaten beibehalten"
   ]
  },
  {
   "cell_type": "code",
   "execution_count": 17,
   "id": "53034413",
   "metadata": {},
   "outputs": [],
   "source": [
    "#Daten Scaling da die Spalten unterschiedliche Skalen haben\n",
    "# Scaler für numerische Variablen initialisieren\n",
    "scaler = StandardScaler()\n",
    "\n",
    "###nummerische Trainingsdaten scalen###\n",
    "\n",
    "#Numerische Variablen auswählen\n",
    "#nummerische Spaltennamen werden zu einer Liste hinzugefügt\n",
    "num_cols = ['loan_amnt', 'installment', 'annual_inc', 'dti', 'delinq_2yrs', 'inq_last_6mths', \n",
    "            'open_acc', 'pub_rec', 'revol_bal', 'revol_util', 'acc_now_delinq', 'tot_coll_amt', \n",
    "            'acc_open_past_24mths', 'bc_open_to_buy', 'chargeoff_within_12_mths', 'delinq_amnt', \n",
    "            'mo_sin_old_il_acct', 'mo_sin_old_rev_tl_op', 'mo_sin_rcnt_rev_tl_op', 'mo_sin_rcnt_tl', \n",
    "            'mort_acc', 'mths_since_recent_bc', 'mths_since_recent_inq', 'num_accts_ever_120_pd', \n",
    "            'num_actv_bc_tl', 'num_actv_rev_tl', 'num_bc_sats', 'num_bc_tl', 'num_il_tl', \n",
    "            'num_op_rev_tl', 'num_rev_accts', 'num_rev_tl_bal_gt_0', 'num_sats', 'pct_tl_nvr_dlq', \n",
    "            'percent_bc_gt_75', 'pub_rec_bankruptcies', 'tax_liens', 'tot_hi_cred_lim', \n",
    "            'total_bal_ex_mort', 'total_bc_limit', 'total_il_high_credit_limit', 'fico_average']\n",
    "numerical_data_train = X_train[num_cols] #kategorische Spalten aus Datensatz entfernen\n",
    "# Kategorische Variablen auswählen\n",
    "categorical_data_train = X_train.drop(columns = num_cols) #Kategorische Spalten aus dem Trainingsdatensatz auswählen\n",
    "# Index des ursprünglichen DataFrame speichern\n",
    "index_train = numerical_data_train.index\n",
    "# Scaler auf numerische Trainingsdaten anwenden\n",
    "scaled_data_train = scaler.fit_transform(numerical_data_train)\n",
    "# Skalierte numerische Daten in DataFrame zurückkonvertieren\n",
    "X_train_scaled = pd.DataFrame(scaled_data_train, columns=num_cols, index= index_train)\n",
    "# Skalierte numerische Daten und kategorische Daten wieder zusammenführen\n",
    "X_train_scaled = pd.concat([X_train_scaled, categorical_data_train], axis=1)\n",
    "\n",
    "\n",
    "#nummerische Testdaten scalen \n",
    "#Numerische Variablen auswählen\n",
    "numerical_data_test = X_test[num_cols]\n",
    "# Kategorische Variablen auswählen\n",
    "categorical_data_test = X_test.drop(columns = num_cols)\n",
    "# Index des ursprünglichen DataFrame speichern\n",
    "index_test = numerical_data_test.index\n",
    "# Scaler auf numerische Daten anwenden\n",
    "scaled_data_test = scaler.transform(numerical_data_test) #nicht fit verwenden da auf Trainingsdaten gefittet wurde\n",
    "# Skalierte numerische Daten in DataFrame zurückkonvertieren\n",
    "X_test_scaled = pd.DataFrame(scaled_data_test, columns=num_cols, index= index_test)\n",
    "# Skalierte numerische Daten und kategorische Daten wieder zusammenführen\n",
    "X_test_scaled = pd.concat([X_test_scaled, categorical_data_test], axis=1)"
   ]
  },
  {
   "cell_type": "code",
   "execution_count": 1,
   "id": "8db8f613",
   "metadata": {},
   "outputs": [],
   "source": [
    "#Anzahl an Beobachtungen reduzieren um Rechenzeit zu verringern mittels Undersampling\n",
    "#Undersampling\n",
    "print(\"Vor Undersampling:\")\n",
    "print(\"Anzahl Fully Paid:\", sum(y_train==0)) #Anzahl an Beobachtungen mit \"0\" zählen\n",
    "print(\"Anzahl Charged Off:\", sum(y_train==1)) #Anzahl an Beobachtungen mit \"1\" zählen\n",
    "\n",
    "# Random Undersampling\n",
    "rus = RandomUnderSampler(random_state=42) #Algorithmus initialisieren\n",
    "X_train_res, y_train_res = rus.fit_resample(X_train_scaled, y_train) #undersampler anwenden\n",
    "\n",
    "#Ausgabe neuer Verteilung\n",
    "print(\"\\nNach Undersampling:\")\n",
    "print(\"Anzahl Fully Paid:\", sum(y_train_res==0))\n",
    "print(\"Anzahl Charged Off:\", sum(y_train_res==1))"
   ]
  },
  {
   "cell_type": "code",
   "execution_count": 19,
   "id": "ccec2536",
   "metadata": {},
   "outputs": [
    {
     "name": "stdout",
     "output_type": "stream",
     "text": [
      "Genauigkeit auf den Testdaten: 0.63\n",
      "Precision:  0.26405867970660146\n",
      "Recall:  0.6101694915254238\n",
      "F1:  0.36860068259385664\n",
      "AUC:  0.6807840956676346\n"
     ]
    }
   ],
   "source": [
    "#vorläufige SVM \n",
    "svm = SVC(random_state = 42,probability = True) #support vector classifer modell\n",
    "svm.fit (X_train_res, y_train_res) #Modell an Trainingsdaten fitten\n",
    "\n",
    "modell = \"Scaling + Undersampling\"\n",
    "\n",
    "#Genauigkeit vom Modell testen\n",
    "accuracy = svm.score(X_test_scaled, y_test)\n",
    "print(f\"Genauigkeit auf den Testdaten: {accuracy}\")\n",
    "\n",
    "#Weitere Testmetriken berechnen\n",
    "\n",
    "# Vorhersagen für die Testdaten berechnen\n",
    "y_test_pred = svm.predict(X_test_scaled)\n",
    "y_scores = svm.predict_proba(X_test_scaled)[:, 1]\n",
    "\n",
    "#Testdaten\n",
    "# Berechnung der Precision\n",
    "precision_test = precision_score(y_test, y_test_pred)\n",
    "print('Precision: ', precision_test)\n",
    "# Berechnung des Recall\n",
    "recall_test = recall_score(y_test, y_test_pred)\n",
    "print('Recall: ', recall_test)\n",
    "# Berechnung des F1-Scores\n",
    "f1_test = f1_score(y_test, y_test_pred)\n",
    "print('F1: ', f1_test)\n",
    "#Berechnung AUC\n",
    "auc = roc_auc_score(y_test, y_scores)\n",
    "print('AUC: ', auc)\n",
    "\n",
    "#Ergebnisse zum Dataframe hinzufügen\n",
    "ergebnisse.loc[0] = [modell, accuracy, precision_test, recall_test, f1_test, auc]"
   ]
  },
  {
   "cell_type": "code",
   "execution_count": 8,
   "id": "bf7ed79c",
   "metadata": {},
   "outputs": [],
   "source": [
    "# SVM-Modell initialisieren\n",
    "#svm2 = SVC(random_state = 42,probability = True)\n",
    "\n",
    "# Parameterraum festlegen\n",
    "#param_grid = {\n",
    "#    'C': [0.1, 1, 10, 100],  # Werte für C (Strafterm)\n",
    "#    'gamma': [0.001, 0.01, 0.1, 1],  # Werte für gamma (Breite des Kernels)\n",
    "#    'kernel': ['linear', 'rbf']  # Mögliche Kernel-Optionen\n",
    "#}\n",
    "\n",
    "# GridSearchCV initialisieren\n",
    "#grid_search = GridSearchCV(\n",
    "#    svm2,  # Vorher definiertes Modell\n",
    "#    param_grid=param_grid,  # Vorher festgelegte Parameter\n",
    "#    cv=5,  # 5-fache Kreuzvalidierung\n",
    "#    n_jobs=-1  # Bestimmt, wie viele CPU-Kerne verwendet werden (-1 = alle verfügbaren Kerne)\n",
    "#)\n",
    "\n",
    "# GridSearchCV trainieren\n",
    "#grid_search.fit(X_train_res, y_train_res)\n",
    "\n",
    "# Beste Parameter und Modell ausgeben\n",
    "#print(\"Beste Parameter:\", grid_search.best_params_)\n",
    "#print(\"Bester Score:\", grid_search.best_score_)\n",
    "\n",
    "# SVM-Modell mit den besten Parametern fitten\n",
    "#svm2 = grid_search.best_estimator_\n",
    "#svm2.fit(X_train_res, y_train_res)"
   ]
  },
  {
   "cell_type": "code",
   "execution_count": 20,
   "id": "258a5a7a",
   "metadata": {},
   "outputs": [
    {
     "name": "stdout",
     "output_type": "stream",
     "text": [
      "Fitting 5 folds for each of 50 candidates, totalling 250 fits\n",
      "Beste Parameter:  {'C': 51.89951087070559, 'gamma': 0.0010240826523328047, 'kernel': 'rbf'}\n",
      "Bester Score:  0.6377018988460573\n"
     ]
    }
   ],
   "source": [
    "# SVM-Modell initialisieren\n",
    "svm2 = SVC(random_state = 42,probability = True)\n",
    "\n",
    "#Parameterraum festlegen\n",
    "param_distributions = {\n",
    "    'C': uniform (1, 100), #Werte für C müssen > 0 ***Strafterm, uniform macht gleichmäßige kotinuierliche Verteilung\n",
    "    'gamma': reciprocal(0.001, 0.1), #Breite des Kernels, reciprocal ist Verteilung bei der Logarithmus des Zufallswert gleichmäßig verteilt ist\n",
    "    'kernel':['linear', 'rbf'] #Radio Basis Function liefert für üblich besten Werte\n",
    "}\n",
    "\n",
    "#RandomizedSearchCV initialisieren\n",
    "random_search = RandomizedSearchCV(\n",
    "    svm2, #vorher definiertes Mdoell\n",
    "    param_distributions=param_distributions, #vorher festgelegte Parameter\n",
    "    n_iter = 50, #Anzahl an verschiedenen Kombinationen die ausprobiert werden\n",
    "    verbose = 2, #steuert Detailgrad der Ausgabe der Suche\n",
    "    cv=5, #5-fache Kreuzvalidierung\n",
    "    n_jobs = -1 #bestimmt wie viel CPU Kerne für Prozess verwendet werden ( -1 = alle verfügbaren)\n",
    ")\n",
    "\n",
    "#RandomSearchCV trainieren\n",
    "random_search.fit(X_train_res, y_train_res)\n",
    "#SVM trainieren\n",
    "svm2.fit(X_train_res, y_train_res)\n",
    "\n",
    "#Beste Paramete rund Modell ausgeben\n",
    "print(\"Beste Parameter: \", random_search.best_params_)\n",
    "print(\"Bester Score: \", random_search.best_score_)"
   ]
  },
  {
   "cell_type": "code",
   "execution_count": 21,
   "id": "115b7650",
   "metadata": {},
   "outputs": [
    {
     "name": "stdout",
     "output_type": "stream",
     "text": [
      "Genauigkeit auf den Testdaten: 0.63\n",
      "Precision:  0.26405867970660146\n",
      "Recall:  0.6101694915254238\n",
      "F1:  0.36860068259385664\n",
      "AUC:  0.6807840956676346\n"
     ]
    }
   ],
   "source": [
    "modell2 = \"Scaling + Undersampling +\\nHyperparameter\"\n",
    "\n",
    "#Genauigkeit vom Modell testen\n",
    "accuracy2 = svm2.score(X_test_scaled, y_test)\n",
    "print(f\"Genauigkeit auf den Testdaten: {accuracy2}\")\n",
    "\n",
    "#Weitere Testmetriken berechnen\n",
    "\n",
    "# Vorhersagen für die Testdaten berechnen\n",
    "y_test_pred2 = svm2.predict(X_test_scaled)\n",
    "y_scores2 = svm2.predict_proba(X_test_scaled)[:, 1]\n",
    "\n",
    "#Testdaten\n",
    "# Berechnung der Precision\n",
    "precision_test2 = precision_score(y_test, y_test_pred2)\n",
    "print('Precision: ', precision_test2)\n",
    "# Berechnung des Recall\n",
    "recall_test2 = recall_score(y_test, y_test_pred2)\n",
    "print('Recall: ', recall_test2)\n",
    "# Berechnung des F1-Scores\n",
    "f1_test2 = f1_score(y_test, y_test_pred2)\n",
    "print('F1: ', f1_test2)\n",
    "#Berechnung AUC\n",
    "auc2 = roc_auc_score(y_test, y_scores2)\n",
    "print('AUC: ', auc2)\n",
    "\n",
    "#Ergebnisse zum Dataframe hinzufügen\n",
    "ergebnisse.loc[1] = [modell2, accuracy2, precision_test2, recall_test2, f1_test2, auc2]"
   ]
  },
  {
   "cell_type": "markdown",
   "id": "38ac8418",
   "metadata": {},
   "source": [
    "## Feature Selection\n",
    "Feature reduzieren anhand von Lasso Regression bei LR"
   ]
  },
  {
   "cell_type": "code",
   "execution_count": 22,
   "id": "c77fcc03",
   "metadata": {},
   "outputs": [],
   "source": [
    "#Nur relevante Features behalten\n",
    "\n",
    "#relevante Features\n",
    "features = ['loan_amnt', 'dti', 'acc_open_past_24mths', 'mo_sin_old_rev_tl_op',\n",
    "       'mort_acc', 'mths_since_recent_inq', 'tot_hi_cred_lim', 'fico_average',\n",
    "       'emp_length', 'verification_status_Not Verified',\n",
    "       'verification_status_Source Verified', 'verification_status_Verified']\n",
    "X_train_sel = X_train_res[features]\n",
    "X_test_sel = X_test_scaled[features]"
   ]
  },
  {
   "cell_type": "code",
   "execution_count": 23,
   "id": "270877d8",
   "metadata": {},
   "outputs": [
    {
     "name": "stdout",
     "output_type": "stream",
     "text": [
      "Genauigkeit auf den Testdaten: 0.628\n",
      "Precision:  0.26405867970660146\n",
      "Recall:  0.6101694915254238\n",
      "F1:  0.3673469387755102\n",
      "AUC:  0.6612503518201976\n"
     ]
    }
   ],
   "source": [
    "#SVM mit ausgwählten Features ohne Hyperparameter Optimierung\n",
    "svm3 = SVC(random_state = 42,probability = True) #support vector classifer modell\n",
    "svm3.fit (X_train_sel, y_train_res) #Modell an Trainingsdaten fitten\n",
    "y_test_pred3 = svm3.predict(X_test_sel)#Modell trifft voraussagen\n",
    "y_scores3 = svm3.predict_proba(X_test_sel)[:, 1]\n",
    "\n",
    "modell3 = \"Scaling + Undersampling +\\nFeature Selection\"\n",
    "#Genauigkeit vom Modell testen\n",
    "accuracy3 = svm3.score(X_test_sel, y_test)\n",
    "print(f\"Genauigkeit auf den Testdaten: {accuracy3}\")\n",
    "\n",
    "#Weitere Testmetriken berechnen\n",
    "\n",
    "#Testdaten\n",
    "# Berechnung der Precision\n",
    "precision_test3 = precision_score(y_test, y_test_pred3)\n",
    "print('Precision: ', precision_test)\n",
    "# Berechnung des Recall\n",
    "recall_test3 = recall_score(y_test, y_test_pred3)\n",
    "print('Recall: ', recall_test3)\n",
    "# Berechnung des F1-Scores\n",
    "f1_test3 = f1_score(y_test, y_test_pred3)\n",
    "print('F1: ', f1_test3)\n",
    "#Berechnung AUC\n",
    "auc3 = roc_auc_score(y_test, y_scores3)\n",
    "print('AUC: ', auc3)\n",
    "\n",
    "#Ergebnisse zum Dataframe hinzufügen\n",
    "ergebnisse.loc[2] = [modell3, accuracy3, precision_test3, recall_test3, f1_test3, auc3]"
   ]
  },
  {
   "cell_type": "code",
   "execution_count": null,
   "id": "97e21297",
   "metadata": {},
   "outputs": [],
   "source": [
    "# SVM-Modell initialisieren\n",
    "#svm4 = SVC(random_state = 42,probability = True)\n",
    "\n",
    "# Parameterraum festlegen\n",
    "#param_grid = {\n",
    "#    'C': [0.1, 1, 10, 100],  # Werte für C (Strafterm)\n",
    "#    'gamma': [0.001, 0.01, 0.1, 1],  # Werte für gamma (Breite des Kernels)\n",
    "#    'kernel': ['linear', 'rbf']  # Mögliche Kernel-Optionen\n",
    "#}\n",
    "\n",
    "# GridSearchCV initialisieren\n",
    "#grid_search2 = GridSearchCV(\n",
    "#    svm4,  # Vorher definiertes Modell\n",
    "#    param_grid=param_grid,  # Vorher festgelegte Parameter\n",
    "#    cv=5,  # 5-fache Kreuzvalidierung\n",
    "#    n_jobs=-1  # Bestimmt, wie viele CPU-Kerne verwendet werden (-1 = alle verfügbaren Kerne)\n",
    "#)\n",
    "\n",
    "# GridSearchCV trainieren\n",
    "#grid_search2.fit(X_train_sel, y_train_res)\n",
    "\n",
    "# Beste Parameter und Modell ausgeben\n",
    "#print(\"Beste Parameter:\", grid_search2.best_params_)\n",
    "#print(\"Bester Score:\", grid_search2.best_score_)\n",
    "\n",
    "# SVM-Modell mit den besten Parametern fitten\n",
    "#svm4 = grid_search2.best_estimator_\n",
    "#svm4.fit(X_train_sel, y_train_res)"
   ]
  },
  {
   "cell_type": "code",
   "execution_count": 14,
   "id": "fa02ed2b",
   "metadata": {},
   "outputs": [
    {
     "name": "stdout",
     "output_type": "stream",
     "text": [
      "Fitting 5 folds for each of 50 candidates, totalling 250 fits\n",
      "Beste Parameter:  {'C': 6.119150813335072, 'gamma': 0.0022216051614549538, 'kernel': 'rbf'}\n",
      "Bester Score:  0.5769230769230769\n"
     ]
    }
   ],
   "source": [
    "# SVM-Modell initialisieren\n",
    "svm4 = SVC(random_state = 42,probability = True)\n",
    "\n",
    "#Parameterraum festlegen\n",
    "param_distributions = {\n",
    "    'C': uniform (1, 100), #Werte für C müssen > 0 ***Strafterm, uniform macht gleichmäßige kotinuierliche Verteilung\n",
    "    'gamma': reciprocal(0.001, 0.1), #Breite des Kernels, reciprocal ist Verteilung bei der Logarithmus des Zufallswert gleichmäßig verteilt ist\n",
    "    'kernel':['linear', 'rbf'] #Radio Basis Function liefert für üblich besten Werte\n",
    "}\n",
    "\n",
    "#RandomizedSearchCV initialisieren\n",
    "random_search2 = RandomizedSearchCV(\n",
    "    svm4, #vorher definiertes Mdoell\n",
    "    param_distributions=param_distributions, #vorher festgelegte Parameter\n",
    "    n_iter = 50, #Anzahl an verschiedenen Kombinationen die ausprobiert werden\n",
    "    verbose = 2, #steuert Detailgrad der Ausgabe der Suche\n",
    "    cv=5, #5-fache Kreuzvalidierung\n",
    "    n_jobs = -1 #bestimmt wie viel CPU Kerne für Prozess verwendet werden ( -1 = alle verfügbaren)\n",
    ")\n",
    "\n",
    "#RandomSearchCV trainieren\n",
    "random_search2.fit(X_train_sel, y_train_res)\n",
    "\n",
    "# Startzeit messen\n",
    "start_time = time.time()\n",
    "#SVM trainieren\n",
    "svm4.fit(X_train_sel, y_train_res)\n",
    "# Endzeit messen\n",
    "end_time = time.time()\n",
    "\n",
    "#Beste Paramete rund Modell ausgeben\n",
    "print(\"Beste Parameter: \", random_search2.best_params_)\n",
    "print(\"Bester Score: \", random_search2.best_score_)"
   ]
  },
  {
   "cell_type": "code",
   "execution_count": 15,
   "id": "65c938b3",
   "metadata": {},
   "outputs": [
    {
     "name": "stdout",
     "output_type": "stream",
     "text": [
      "Genauigkeit auf den Testdaten: 0.48\n",
      "Precision:  0.07407407407407407\n",
      "Recall:  0.6666666666666666\n",
      "F1:  0.13333333333333333\n",
      "AUC:  0.326241134751773\n",
      "Gesamtrechenzeit: 0.011395692825317383 Sekunden\n"
     ]
    }
   ],
   "source": [
    "modell4 = \"Scaling + Undersampling +\\nFeature Selection + Hyperparamter\"\n",
    "\n",
    "#Genauigkeit vom Modell testen\n",
    "accuracy4 = svm4.score(X_test_sel, y_test)\n",
    "print(f\"Genauigkeit auf den Testdaten: {accuracy4}\")\n",
    "\n",
    "#Weitere Testmetriken berechnen\n",
    "\n",
    "# Vorhersagen für die Testdaten berechnen\n",
    "y_test_pred4 = svm4.predict(X_test_sel)\n",
    "y_scores4 = svm4.predict_proba(X_test_sel)[:, 1]\n",
    "\n",
    "#Testdaten\n",
    "# Berechnung der Precision\n",
    "precision_test4 = precision_score(y_test, y_test_pred4)\n",
    "print('Precision: ', precision_test4)\n",
    "# Berechnung des Recall\n",
    "recall_test4 = recall_score(y_test, y_test_pred4)\n",
    "print('Recall: ', recall_test4)\n",
    "# Berechnung des F1-Scores\n",
    "f1_test4 = f1_score(y_test, y_test_pred4)\n",
    "print('F1: ', f1_test4)\n",
    "#Berechnung AUC\n",
    "auc4 = roc_auc_score(y_test, y_scores4)\n",
    "print('AUC: ', auc4)\n",
    "\n",
    "# Gesamtrechenzeit berechnen und ausgeben\n",
    "elapsed_time = end_time - start_time\n",
    "print(f\"Gesamtrechenzeit: {elapsed_time} Sekunden\")\n",
    "\n",
    "#Ergebnisse zum Dataframe hinzufügen\n",
    "ergebnisse.loc[3] = [modell4, accuracy4, precision_test4, recall_test4, f1_test4, auc4]"
   ]
  },
  {
   "cell_type": "code",
   "execution_count": 10,
   "id": "409f0a20",
   "metadata": {},
   "outputs": [
    {
     "data": {
      "text/plain": [
       "Text(0.5, 1.0, 'Confusion Matrix für Selected Features')"
      ]
     },
     "execution_count": 10,
     "metadata": {},
     "output_type": "execute_result"
    },
    {
     "data": {
      "image/png": "[encoded data removed]",
      "text/plain": [
       "<Figure size 432x288 with 2 Axes>"
      ]
     },
     "metadata": {
      "needs_background": "light"
     },
     "output_type": "display_data"
    }
   ],
   "source": [
    "#Confusion Matrix berechnen\n",
    "cm2 = confusion_matrix(y_test, y_test_pred3, labels=svm4.classes_) #confusionmatrix für Testdaten berecnen\n",
    "disp = ConfusionMatrixDisplay(confusion_matrix=cm2, #Confusion Matrix plotten\n",
    "                               display_labels=[\"Did not default\", \"Defaulted\"]) #Labels beschriften\n",
    "\n",
    "disp.plot()\n",
    "plt.title('Confusion Matrix für Selected Features') #Überschrift festlegen"
   ]
  },
  {
   "cell_type": "code",
   "execution_count": 11,
   "id": "9b9acc8d",
   "metadata": {},
   "outputs": [
    {
     "name": "stdout",
     "output_type": "stream",
     "text": [
      "AUC:  0.6714501513679366\n"
     ]
    },
    {
     "data": {
      "image/png": "[encoded data removed]",
      "text/plain": [
       "<Figure size 576x432 with 1 Axes>"
      ]
     },
     "metadata": {
      "needs_background": "light"
     },
     "output_type": "display_data"
    }
   ],
   "source": [
    "fpr, tpr, thresholds = roc_curve(y_test, y_scores4)\n",
    "\n",
    "print('AUC: ', auc4)\n",
    "\n",
    "# ROC-Kurve plotten\n",
    "plt.figure(figsize=(8, 6))\n",
    "plt.plot(fpr, tpr, color='b', lw=2, label=f'ROC curve (AUC = {auc4:.2f})')\n",
    "plt.plot([0, 1], [0, 1], color='grey', lw=2, linestyle='--')\n",
    "plt.xlabel('False Positive Rate')\n",
    "plt.ylabel('True Positive Rate')\n",
    "plt.title('ROC Curve for SVM')\n",
    "plt.legend(loc='lower right')\n",
    "plt.grid(True)\n",
    "plt.show()"
   ]
  },
  {
   "cell_type": "code",
   "execution_count": 12,
   "id": "1d542aba",
   "metadata": {},
   "outputs": [
    {
     "data": {
      "image/png": "[encoded data removed]",
      "text/plain": [
       "<Figure size 864x288 with 1 Axes>"
      ]
     },
     "metadata": {
      "needs_background": "light"
     },
     "output_type": "display_data"
    }
   ],
   "source": [
    "# Numerische Spalten auf 5 Nachkommastellen begrenzen\n",
    "numerical_cols = ergebnisse.select_dtypes(include=['float64']).columns\n",
    "ergebnisse[numerical_cols] = ergebnisse[numerical_cols].round(5)\n",
    "\n",
    "# Tabelle erstellen\n",
    "fig, ax = plt.subplots(figsize=(12, 4))  # Figur und Achsen erstellen\n",
    "ax.axis('off')  # Achsen ausschalten\n",
    "\n",
    "# Spaltenbreiten festlegen\n",
    "col_widths = [0.3] + [0.14 for _ in range(ergebnisse.shape[1] - 1)]\n",
    "\n",
    "# Tabellendiagramm erstellen\n",
    "table = ax.table(cellText=ergebnisse.values, colLabels=ergebnisse.columns, cellLoc='center', loc='center', bbox=[0, 0, 1, 1], colWidths=col_widths)\n",
    "\n",
    "# Überschriften fett drucken\n",
    "table.auto_set_font_size(False)\n",
    "table.set_fontsize(10)  # Schriftgröße anpassen, falls gewünscht\n",
    "for (i, j), cell in table.get_celld().items():\n",
    "    if i == 0:\n",
    "        cell.set_text_props(fontweight='bold')  # Überschrift fett drucken\n",
    "\n",
    "plt.show()"
   ]
  },
  {
   "cell_type": "markdown",
   "id": "9857c96e",
   "metadata": {},
   "source": [
    "## Modell erklären "
   ]
  },
  {
   "cell_type": "code",
   "execution_count": null,
   "id": "03d2246f",
   "metadata": {},
   "outputs": [],
   "source": [
    "#Feature Importance ausgeben lassen\n",
    "svm4.coef_"
   ]
  },
  {
   "cell_type": "code",
   "execution_count": null,
   "id": "34783dc1",
   "metadata": {},
   "outputs": [],
   "source": []
  }
 ],
 "metadata": {
  "kernelspec": {
   "display_name": "Python 3 (ipykernel)",
   "language": "python",
   "name": "python3"
  },
  "language_info": {
   "codemirror_mode": {
    "name": "ipython",
    "version": 3
   },
   "file_extension": ".py",
   "mimetype": "text/x-python",
   "name": "python",
   "nbconvert_exporter": "python",
   "pygments_lexer": "ipython3",
   "version": "3.9.12"
  }
 },
 "nbformat": 4,
 "nbformat_minor": 5
}
